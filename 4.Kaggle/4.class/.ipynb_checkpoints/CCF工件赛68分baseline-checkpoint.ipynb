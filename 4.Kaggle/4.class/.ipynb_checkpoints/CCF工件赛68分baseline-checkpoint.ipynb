{
 "cells": [
  {
   "cell_type": "code",
   "execution_count": 7,
   "metadata": {},
   "outputs": [],
   "source": [
    "import pandas as pd\n",
    "import numpy as np\n",
    "from catboost import CatBoostClassifier\n",
    "# catboost安装方式：命令行输入 pip install -i https://pypi.tuna.tsinghua.edu.cn/simple catboost"
   ]
  },
  {
   "cell_type": "code",
   "execution_count": 8,
   "metadata": {},
   "outputs": [],
   "source": [
    "# 读取数据\n",
    "train = pd.read_csv('first_round_training_data.csv')\n",
    "test = pd.read_csv('first_round_testing_data.csv')"
   ]
  },
  {
   "cell_type": "code",
   "execution_count": 9,
   "metadata": {},
   "outputs": [],
   "source": [
    "# 特征列表\n",
    "features = [\"Parameter5\",\"Parameter6\",\"Parameter7\",\"Parameter8\",\"Parameter9\",\"Parameter10\"]"
   ]
  },
  {
   "cell_type": "code",
   "execution_count": 10,
   "metadata": {},
   "outputs": [],
   "source": [
    "# 标签转化\n",
    "def quality_encoder(x):\n",
    "    return {'Excellent':0,'Good':1,'Pass':2,'Fail':3}[x]\n",
    "\n",
    "train['label'] = train.Quality_label.apply(quality_encoder)\n",
    "train['label_Excellent'] = 1*(train['label'] == 0)\n",
    "train['label_Good'] = 1*(train['label'] == 1)\n",
    "train['label_Pass'] = 1*(train['label'] == 2)\n",
    "train['label_Fail'] = 1*(train['label'] == 3)"
   ]
  },
  {
   "cell_type": "code",
   "execution_count": 11,
   "metadata": {},
   "outputs": [
    {
     "name": "stdout",
     "output_type": "stream",
     "text": [
      "0:\tlearn: 1.3809616\ttotal: 105ms\tremaining: 3m 30s\n",
      "100:\tlearn: 1.1594414\ttotal: 8.92s\tremaining: 2m 47s\n",
      "200:\tlearn: 1.1032685\ttotal: 17.4s\tremaining: 2m 35s\n",
      "300:\tlearn: 1.0809452\ttotal: 25.6s\tremaining: 2m 24s\n",
      "400:\tlearn: 1.0684502\ttotal: 33.5s\tremaining: 2m 13s\n",
      "500:\tlearn: 1.0592936\ttotal: 41.3s\tremaining: 2m 3s\n",
      "600:\tlearn: 1.0526293\ttotal: 48.6s\tremaining: 1m 53s\n",
      "700:\tlearn: 1.0468903\ttotal: 56.5s\tremaining: 1m 44s\n",
      "800:\tlearn: 1.0417044\ttotal: 1m 3s\tremaining: 1m 35s\n",
      "900:\tlearn: 1.0376457\ttotal: 1m 11s\tremaining: 1m 26s\n",
      "1000:\tlearn: 1.0330360\ttotal: 1m 18s\tremaining: 1m 18s\n",
      "1100:\tlearn: 1.0281466\ttotal: 1m 26s\tremaining: 1m 10s\n",
      "1200:\tlearn: 1.0231503\ttotal: 1m 36s\tremaining: 1m 3s\n",
      "1300:\tlearn: 1.0188333\ttotal: 1m 45s\tremaining: 56.8s\n",
      "1400:\tlearn: 1.0144731\ttotal: 1m 55s\tremaining: 49.5s\n",
      "1500:\tlearn: 1.0102373\ttotal: 2m 6s\tremaining: 41.9s\n",
      "1600:\tlearn: 1.0065442\ttotal: 2m 16s\tremaining: 34s\n",
      "1700:\tlearn: 1.0025974\ttotal: 2m 25s\tremaining: 25.6s\n",
      "1800:\tlearn: 0.9990192\ttotal: 2m 34s\tremaining: 17.1s\n",
      "1900:\tlearn: 0.9960821\ttotal: 2m 42s\tremaining: 8.47s\n",
      "1999:\tlearn: 0.9932297\ttotal: 2m 51s\tremaining: 0us\n"
     ]
    },
    {
     "data": {
      "text/plain": [
       "0.481"
      ]
     },
     "execution_count": 11,
     "metadata": {},
     "output_type": "execute_result"
    }
   ],
   "source": [
    "# 本地多分类准确率评估\n",
    "local_train = train.iloc[:5000,:].copy()\n",
    "local_valid = train.iloc[5000:,:].copy()\n",
    "\n",
    "model = CatBoostClassifier(iterations=2000,depth=8,learning_rate=0.01,verbose=100,loss_function='MultiClass',random_state=666)\n",
    "model.fit(local_train.loc[:,features],local_train.label)\n",
    "\n",
    "local_valid['prediction'] = model.predict(local_valid.loc[:,features])\n",
    "(local_valid.label == local_valid.prediction).mean()"
   ]
  },
  {
   "cell_type": "code",
   "execution_count": 12,
   "metadata": {},
   "outputs": [
    {
     "name": "stdout",
     "output_type": "stream",
     "text": [
      "0:\tlearn: 1.3809997\ttotal: 93.8ms\tremaining: 3m 7s\n",
      "100:\tlearn: 1.1658482\ttotal: 8.76s\tremaining: 2m 44s\n",
      "200:\tlearn: 1.1109862\ttotal: 17.6s\tremaining: 2m 37s\n",
      "300:\tlearn: 1.0892558\ttotal: 26s\tremaining: 2m 26s\n",
      "400:\tlearn: 1.0772519\ttotal: 34.5s\tremaining: 2m 17s\n",
      "500:\tlearn: 1.0693838\ttotal: 42.4s\tremaining: 2m 6s\n",
      "600:\tlearn: 1.0626996\ttotal: 50.6s\tremaining: 1m 57s\n",
      "700:\tlearn: 1.0565535\ttotal: 58.7s\tremaining: 1m 48s\n",
      "800:\tlearn: 1.0517824\ttotal: 1m 7s\tremaining: 1m 40s\n",
      "900:\tlearn: 1.0472620\ttotal: 1m 14s\tremaining: 1m 31s\n",
      "1000:\tlearn: 1.0434407\ttotal: 1m 22s\tremaining: 1m 22s\n",
      "1100:\tlearn: 1.0389269\ttotal: 1m 31s\tremaining: 1m 14s\n",
      "1200:\tlearn: 1.0346725\ttotal: 1m 39s\tremaining: 1m 6s\n",
      "1300:\tlearn: 1.0299140\ttotal: 1m 48s\tremaining: 58.4s\n",
      "1400:\tlearn: 1.0262837\ttotal: 1m 57s\tremaining: 50.3s\n",
      "1500:\tlearn: 1.0220511\ttotal: 2m 6s\tremaining: 42s\n",
      "1600:\tlearn: 1.0182999\ttotal: 2m 15s\tremaining: 33.7s\n",
      "1700:\tlearn: 1.0148734\ttotal: 2m 24s\tremaining: 25.3s\n",
      "1800:\tlearn: 1.0117304\ttotal: 2m 33s\tremaining: 17s\n",
      "1900:\tlearn: 1.0089866\ttotal: 2m 44s\tremaining: 8.57s\n",
      "1999:\tlearn: 1.0056893\ttotal: 2m 53s\tremaining: 0us\n"
     ]
    }
   ],
   "source": [
    "# 线上提交\n",
    "model = CatBoostClassifier(iterations=2000,depth=8,learning_rate=0.01,verbose=100,loss_function='MultiClass',random_state=666)\n",
    "\n",
    "model.fit(train.loc[:,features],train.label)\n",
    "\n",
    "test['prediction'] = model.predict(test.loc[:,features])\n",
    "test['prob_Excellent'] = 0.0\n",
    "test['prob_Good'] = 0.0\n",
    "test['prob_Pass'] = 0.0\n",
    "test['prob_Fail'] = 0.0\n",
    "test.loc[:,['prob_Excellent','prob_Good','prob_Pass','prob_Fail']] = model.predict_proba(test.loc[:,features])"
   ]
  },
  {
   "cell_type": "code",
   "execution_count": 13,
   "metadata": {},
   "outputs": [],
   "source": [
    "# 提交用\n",
    "prediction = test.groupby(['Group'],as_index=False)['prob_Excellent','prob_Good','prob_Pass','prob_Fail'].mean()\n",
    "prediction.columns = ['Group','Excellent ratio','Good ratio','Pass ratio','Fail ratio']\n",
    "prediction.to_csv('baseline.csv',index=False)"
   ]
  },
  {
   "cell_type": "code",
   "execution_count": 16,
   "metadata": {},
   "outputs": [],
   "source": []
  }
 ],
 "metadata": {
  "kernelspec": {
   "display_name": "Python 3",
   "language": "python",
   "name": "python3"
  },
  "language_info": {
   "codemirror_mode": {
    "name": "ipython",
    "version": 3
   },
   "file_extension": ".py",
   "mimetype": "text/x-python",
   "name": "python",
   "nbconvert_exporter": "python",
   "pygments_lexer": "ipython3",
   "version": "3.7.5"
  }
 },
 "nbformat": 4,
 "nbformat_minor": 2
}
