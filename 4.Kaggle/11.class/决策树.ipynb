{
 "cells": [
  {
   "cell_type": "code",
   "execution_count": 105,
   "metadata": {},
   "outputs": [],
   "source": [
    "class TreeNode(object):\n",
    "    def __init__(self,\n",
    "        is_leaf=False,score=None,\n",
    "        feature=None,threshold=None,left=None,right=None):\n",
    "        self.is_leaf=is_leaf\n",
    "        self.score=score\n",
    "        self.feature=feature\n",
    "        self.threshold=threshold\n",
    "        self.left=left\n",
    "        self.right=right"
   ]
  },
  {
   "cell_type": "code",
   "execution_count": 106,
   "metadata": {},
   "outputs": [],
   "source": [
    "def predict_single(treenode,test):\n",
    "    if treenode.is_leaf:\n",
    "        return treenode.score\n",
    "    else:\n",
    "        if test[treenode.feature]<treenode.threshold:\n",
    "            return predict_single(treenode.left,test)\n",
    "        else:\n",
    "            return predict_single(treenode.right,test)"
   ]
  },
  {
   "cell_type": "code",
   "execution_count": 107,
   "metadata": {},
   "outputs": [],
   "source": [
    "def predict(treenode,test):\n",
    "    result = []\n",
    "    for i in test:\n",
    "        result.append(predict_single(treenode,i))\n",
    "    return result"
   ]
  },
  {
   "cell_type": "code",
   "execution_count": 108,
   "metadata": {},
   "outputs": [],
   "source": [
    "class Tree(object):\n",
    "    def __init__(self,estimator=None,max_depth=3,min_sample_split=10,gamma=0):\n",
    "        self.estimator = estimator\n",
    "        self.max_depth=max_depth\n",
    "        self.min_sample_split=min_sample_split\n",
    "        self.gamma=gamma\n",
    "        \n",
    "    def predict_single(self,treenode,test):\n",
    "        if treenode.is_leaf:\n",
    "            return treenode.score\n",
    "        else:\n",
    "            if test[treenode.feature]<treenode.threshold:\n",
    "                return self.predict_single(treenode.left,test)\n",
    "            else:\n",
    "                return self.predict_single(treenode.right,test)\n",
    "            \n",
    "    def predict(self,test):\n",
    "        result = []\n",
    "        for i in test:\n",
    "            result.append(self.predict_single(self.estimator,i))\n",
    "        return result\n",
    "    \n",
    "    \n",
    "    def fit(self,train):\n",
    "        self.estimator = self.construct_tree(train,label,depth_left=self.max_depth)\n",
    "    \n",
    "    \n",
    "    def construct_tree(self,train,label,depth_left):\n",
    "        if depth_left==0 or len(train)<self.min_sample_split:\n",
    "            return TreeNode(is_leaf=True,score=self.calculate_score(label))\n",
    "\n",
    "        feature,threshold,gain=self.find_best_feature_threshold_and_gain(train,label)\n",
    "\n",
    "        if gain<=self.gamma:\n",
    "            return TreeNode(is_leaf=True,score=self.calculate_score(label))\n",
    "\n",
    "        index=train[:,feature]<threshold\n",
    "        left=self.construct_tree(train[index],label[index],depth_left-1)\n",
    "        right=self.construct_tree(train[~index],label[~index],depth_left-1)\n",
    "        return TreeNode(feature=feature,threshold=threshold,left=left,right=right)\n",
    "    \n",
    "    \n",
    "    def calculate_score(self,label):\n",
    "        return np.mean(label)\n",
    "    \n",
    "    def calculate_loss(self,label):\n",
    "        return np.sum(np.square(label-self.calculate_score(label)))\n",
    "    \n",
    "    def find_best_feature_threshold_and_gain(self,train,label):\n",
    "        best_feature = None\n",
    "        best_threshold = None\n",
    "        best_gain = 0\n",
    "        for feature in range(train.shape[1]):\n",
    "            threshold,gain = self.find_best_threshold_and_gain(train[:,feature],label)\n",
    "            if gain>best_gain:\n",
    "                best_feature = feature\n",
    "                best_threshold = threshold\n",
    "                best_gain = gain\n",
    "        return best_feature,best_threshold,best_gain\n",
    "    \n",
    "    def find_best_threshold_and_gain(self,feature_array,label):\n",
    "        original_loss=self.calculate_loss(label)\n",
    "        best_threshold=None\n",
    "        best_gain=0\n",
    "        sorted_feature_values=np.unique(feature_array)\n",
    "        for i in range(1,len(sorted_feature_values)):\n",
    "            threshold=(sorted_feature_values[i-1]+sorted_feature_values[i])/2\n",
    "            index=feature_array<threshold\n",
    "            left_loss=self.calculate_loss(label[index])\n",
    "            right_loss=self.calculate_loss(label[~index])\n",
    "            gain=original_loss-left_loss-right_loss\n",
    "            if gain>best_gain:\n",
    "                best_threshold=threshold\n",
    "                best_gain=gain\n",
    "        return best_threshold,best_gain\n",
    "            "
   ]
  },
  {
   "cell_type": "code",
   "execution_count": null,
   "metadata": {},
   "outputs": [],
   "source": []
  },
  {
   "cell_type": "code",
   "execution_count": 109,
   "metadata": {},
   "outputs": [],
   "source": [
    "train = np.array(\n",
    "[\n",
    "    [1,3],\n",
    "    [1,1],\n",
    "    [1,2],\n",
    "    [1,2],\n",
    "    [2,1],\n",
    "    [3,2],\n",
    "    [3,2],\n",
    "    [3,1]\n",
    "])\n",
    "\n",
    "label = np.array(\n",
    "[6,3,2,3,4,2,2,2]\n",
    ")"
   ]
  },
  {
   "cell_type": "code",
   "execution_count": 110,
   "metadata": {},
   "outputs": [],
   "source": [
    "tree = Tree(max_depth=100,min_sample_split=1,gamma=0)\n",
    "tree.fit(train)"
   ]
  },
  {
   "cell_type": "code",
   "execution_count": 111,
   "metadata": {},
   "outputs": [
    {
     "data": {
      "text/plain": [
       "2.5"
      ]
     },
     "execution_count": 111,
     "metadata": {},
     "output_type": "execute_result"
    }
   ],
   "source": [
    "tree.estimator.left.left.left.right.score"
   ]
  },
  {
   "cell_type": "code",
   "execution_count": 65,
   "metadata": {},
   "outputs": [],
   "source": [
    "default = TreeNode(is_leaf=True,feature=None,threshold=None,left=None,right=None,score=1)\n",
    "no_default = TreeNode(is_leaf=True,feature=None,threshold=None,left=None,right=None,score=0)\n",
    "root = TreeNode(is_leaf=False,feature=0,threshold=16,left=None,right=None,score=None)\n",
    "split1 = TreeNode(is_leaf=False,feature=1,threshold=5000,left=None,right=None,score=None)\n",
    "split2 = TreeNode(is_leaf=False,feature=1,threshold=20000,left=None,right=None,score=None)\n",
    "root.left = split2\n",
    "root.right = split1\n",
    "split1.left = default\n",
    "split1.right = no_default\n",
    "split2.left = default\n",
    "split2.right = no_default"
   ]
  },
  {
   "cell_type": "code",
   "execution_count": 66,
   "metadata": {},
   "outputs": [],
   "source": [
    "tree=Tree(root)"
   ]
  },
  {
   "cell_type": "code",
   "execution_count": 67,
   "metadata": {},
   "outputs": [
    {
     "data": {
      "text/plain": [
       "[0, 1]"
      ]
     },
     "execution_count": 67,
     "metadata": {},
     "output_type": "execute_result"
    }
   ],
   "source": [
    "tree.predict([[16,18000],[1,1]])"
   ]
  },
  {
   "cell_type": "code",
   "execution_count": null,
   "metadata": {},
   "outputs": [],
   "source": [
    "    # 输入叶子节点内数据的标签，返回该节点的预测值\n",
    "    def calculate_score(self,label):\n",
    "        return score\n",
    "    \n",
    "    # 输入训练数据和label，返回最佳分裂特征、最佳分裂点、增益\n",
    "    def find_best_feature_threshold_and_gain(self,train,label):\n",
    "        return best_feature,best_threshold,best_gain\n",
    "    \n",
    "    # 输入一个特征和对应标签，返回在这个特征上的最佳分裂点、增益\n",
    "    def find_best_threshold_and_gain(self,feature_array,label):\n",
    "        return best_threshold,best_gain\n",
    "    \n",
    "    # 输入节点内数据的标签，返回这个节点上的损失函数的值\n",
    "    def calculate_loss(self,label):\n",
    "        return np.sum(np.square(label-self.calculate_score(label)))"
   ]
  },
  {
   "cell_type": "code",
   "execution_count": null,
   "metadata": {},
   "outputs": [],
   "source": [
    "    def construct_tree(self,train,label,depth_left):\n",
    "        \n",
    "        if : # 终止条件\n",
    "            return TreeNode(is_leaf=True,score=self.calculate_score(label))\n",
    "        \n",
    "        else: \n",
    "            left=self.construct_tree(左节点数据,左节点标签,depth_left-1)\n",
    "            right=self.construct_tree(右节点数据,右节点标签,depth_left-1)\n",
    "            return TreeNode(feature=feature,threshold=threshold,left=left,right=right)"
   ]
  },
  {
   "cell_type": "code",
   "execution_count": null,
   "metadata": {},
   "outputs": [],
   "source": []
  }
 ],
 "metadata": {
  "kernelspec": {
   "display_name": "Python 3",
   "language": "python",
   "name": "python3"
  },
  "language_info": {
   "codemirror_mode": {
    "name": "ipython",
    "version": 3
   },
   "file_extension": ".py",
   "mimetype": "text/x-python",
   "name": "python",
   "nbconvert_exporter": "python",
   "pygments_lexer": "ipython3",
   "version": "3.7.3"
  }
 },
 "nbformat": 4,
 "nbformat_minor": 2
}
