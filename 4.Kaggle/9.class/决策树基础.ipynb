{
 "cells": [
  {
   "cell_type": "code",
   "execution_count": 5,
   "metadata": {},
   "outputs": [],
   "source": [
    "class TreeNode:\n",
    "    def __init__(self,is_leaf,feature,threshold,left,right,score):\n",
    "        self.is_leaf = is_leaf\n",
    "        self.feature = feature\n",
    "        self.threshold = threshold\n",
    "        self.left = left\n",
    "        self.right = right\n",
    "        self.score = score"
   ]
  },
  {
   "cell_type": "code",
   "execution_count": 6,
   "metadata": {},
   "outputs": [],
   "source": [
    "# 违约叶子节点\n",
    "default = TreeNode(is_leaf=True,feature=None,threshold=None,left=None,right=None,score=1)"
   ]
  },
  {
   "cell_type": "code",
   "execution_count": 7,
   "metadata": {},
   "outputs": [],
   "source": [
    "# 不违约叶子节点\n",
    "no_default = TreeNode(is_leaf=True,feature=None,threshold=None,left=None,right=None,score=0)"
   ]
  },
  {
   "cell_type": "code",
   "execution_count": 8,
   "metadata": {},
   "outputs": [],
   "source": [
    "# 根节点：education,16\n",
    "# 约定：左面是<阈值，右面是>=阈值\n",
    "root = TreeNode(is_leaf=False,feature=0,threshold=16,left=None,right=None,score=None)"
   ]
  },
  {
   "cell_type": "code",
   "execution_count": 9,
   "metadata": {},
   "outputs": [],
   "source": [
    "# 分裂节点1\n",
    "split1 = TreeNode(is_leaf=False,feature=1,threshold=5000,left=None,right=None,score=None)\n",
    "split2 = TreeNode(is_leaf=False,feature=1,threshold=20000,left=None,right=None,score=None)"
   ]
  },
  {
   "cell_type": "code",
   "execution_count": 10,
   "metadata": {},
   "outputs": [],
   "source": [
    "root.left = split2\n",
    "root.right = split1\n",
    "split1.left = default\n",
    "split1.right = no_default\n",
    "split2.left = default\n",
    "split2.right = no_default"
   ]
  },
  {
   "cell_type": "code",
   "execution_count": 15,
   "metadata": {},
   "outputs": [],
   "source": [
    "def depth(tree):\n",
    "    if tree.is_leaf:\n",
    "        return 0\n",
    "    else:\n",
    "        return max(depth(tree.left),depth(tree.right)) + 1"
   ]
  },
  {
   "cell_type": "code",
   "execution_count": 16,
   "metadata": {},
   "outputs": [
    {
     "data": {
      "text/plain": [
       "2"
      ]
     },
     "execution_count": 16,
     "metadata": {},
     "output_type": "execute_result"
    }
   ],
   "source": [
    "depth(root)"
   ]
  },
  {
   "cell_type": "code",
   "execution_count": 17,
   "metadata": {},
   "outputs": [],
   "source": [
    "def predict(tree,example):\n",
    "    if tree.is_leaf:\n",
    "        return tree.score\n",
    "    else:\n",
    "        if example[tree.feature] < tree.threshold:\n",
    "            return predict(tree.left,example)\n",
    "        else:\n",
    "            return predict(tree.right,example)"
   ]
  },
  {
   "cell_type": "code",
   "execution_count": 21,
   "metadata": {},
   "outputs": [
    {
     "data": {
      "text/plain": [
       "1"
      ]
     },
     "execution_count": 21,
     "metadata": {},
     "output_type": "execute_result"
    }
   ],
   "source": [
    "predict(root,[12,18000])"
   ]
  },
  {
   "cell_type": "code",
   "execution_count": null,
   "metadata": {},
   "outputs": [],
   "source": []
  }
 ],
 "metadata": {
  "kernelspec": {
   "display_name": "Python 3",
   "language": "python",
   "name": "python3"
  },
  "language_info": {
   "codemirror_mode": {
    "name": "ipython",
    "version": 3
   },
   "file_extension": ".py",
   "mimetype": "text/x-python",
   "name": "python",
   "nbconvert_exporter": "python",
   "pygments_lexer": "ipython3",
   "version": "3.7.3"
  }
 },
 "nbformat": 4,
 "nbformat_minor": 2
}
